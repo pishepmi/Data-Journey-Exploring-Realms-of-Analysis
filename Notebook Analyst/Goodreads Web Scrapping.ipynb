{
 "cells": [
  {
   "cell_type": "markdown",
   "id": "59491ea5",
   "metadata": {},
   "source": [
    "#Web Scrapping in Goodreads Quotes"
   ]
  },
  {
   "cell_type": "code",
   "execution_count": 25,
   "id": "267b9ba6",
   "metadata": {},
   "outputs": [
    {
     "name": "stdout",
     "output_type": "stream",
     "text": [
      "Scraping berhasil. Data disimpan dalam file 'goodreads_quotes.csv'.\n"
     ]
    }
   ],
   "source": [
    "import csv\n",
    "import requests\n",
    "from bs4 import BeautifulSoup\n",
    "import re\n",
    "\n",
    "def clean_text(text):\n",
    "    # Clean the text from non-ASCII characters\n",
    "    cleaned_text = re.sub(r'[^\\x00-\\x7F]+', '', text)\n",
    "    return cleaned_text.strip()\n",
    "\n",
    "def scrape_goodreads_quotes(num_pages=10):\n",
    "    base_url = \"https://www.goodreads.com/quotes?page={}\"\n",
    "    headers = {\"User-Agent\": \"Mozilla/5.0 (Windows NT 10.0; Win64; x64) AppleWebKit/537.36 (KHTML, like Gecko) Chrome/91.0.4472.124 Safari/537.36\"}\n",
    "\n",
    "    # Create a CSV file\n",
    "    with open('goodreads_quotes.csv', 'w', newline='', encoding='utf-8') as csvfile:\n",
    "        fieldnames = ['Author', 'Quote', 'Source', 'Tags', 'Likes']\n",
    "        writer = csv.DictWriter(csvfile, fieldnames=fieldnames)\n",
    "        writer.writeheader()\n",
    "\n",
    "        try:\n",
    "            # Loop through the pages\n",
    "            for page_num in range(1, num_pages + 1):\n",
    "                url = base_url.format(page_num)\n",
    "                response = requests.get(url, headers=headers)\n",
    "                response.raise_for_status()  # Handle errors if the request is not successful\n",
    "\n",
    "                soup = BeautifulSoup(response.text, 'html.parser')\n",
    "\n",
    "                # Extract data from each quote\n",
    "                quotes = soup.find_all('div', class_='quoteDetails')\n",
    "                for quote in quotes:\n",
    "                    author = quote.find('span', class_='authorOrTitle').text.strip()\n",
    "\n",
    "                    # Use contents to access text elements\n",
    "                    quote_text_elem = quote.find('div', class_='quoteText')\n",
    "                    quote_text = clean_text(quote_text_elem.contents[0].strip()) if quote_text_elem.contents else 'N/A'\n",
    "\n",
    "                    # Handle cases where the element with the sought-after id is not found\n",
    "                    source_elem = quote.find('span', id=lambda x: x and x.startswith('quote_book_link_'))\n",
    "                    source = source_elem.text.strip() if source_elem else 'N/A'\n",
    "\n",
    "                    tags_elem = quote.find('div', class_='greyText smallText left')\n",
    "                    tags = ', '.join(tag.text.strip() for tag in tags_elem.find_all('a')) if tags_elem else 'N/A'\n",
    "\n",
    "                    likes_elem = quote.find('div', class_='right')\n",
    "                    likes_text = likes_elem.text.strip() if likes_elem else 'N/A'\n",
    "\n",
    "                    # Remove the word \"likes\" from the text\n",
    "                    likes = likes_text.replace(' likes', '') if likes_text != 'N/A' else 'N/A'\n",
    "\n",
    "                    # Write data to the CSV file\n",
    "                    writer.writerow({'Author': author, 'Quote': quote_text, 'Source': source, 'Tags': tags, 'Likes': likes})\n",
    "\n",
    "            print(f\"Scraping successful. Data saved in the 'goodreads_quotes.csv' file.\")\n",
    "\n",
    "        except requests.exceptions.RequestException as e:\n",
    "            print(f\"Error: {e}\")\n",
    "            print(\"Scraping failed.\")\n",
    "\n",
    "if __name__ == \"__main__\":\n",
    "    # Set the number of pages to be scraped (adjust as needed)\n",
    "    num_pages_to_scrape = 5\n",
    "    scrape_goodreads_quotes(num_pages=num_pages_to_scrape)\n"
   ]
  },
  {
   "cell_type": "code",
   "execution_count": null,
   "id": "e8c75aad",
   "metadata": {},
   "outputs": [],
   "source": []
  }
 ],
 "metadata": {
  "kernelspec": {
   "display_name": "Python 3 (ipykernel)",
   "language": "python",
   "name": "python3"
  },
  "language_info": {
   "codemirror_mode": {
    "name": "ipython",
    "version": 3
   },
   "file_extension": ".py",
   "mimetype": "text/x-python",
   "name": "python",
   "nbconvert_exporter": "python",
   "pygments_lexer": "ipython3",
   "version": "3.9.13"
  }
 },
 "nbformat": 4,
 "nbformat_minor": 5
}
